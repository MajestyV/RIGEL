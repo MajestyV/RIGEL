{
 "cells": [
  {
   "cell_type": "code",
   "execution_count": 4,
   "id": "757d6898",
   "metadata": {},
   "outputs": [],
   "source": [
    "# 导入环境\n",
    "import os, sys\n",
    "current_path = os.path.abspath(os.path.dirname('.'))  # 获取文件目录\n",
    "project_path = current_path[:current_path.find('RIGEL') + len('RIGEL')]  # 获取项目根路径，内容为当前项目的名字，即RIGEL\n",
    "sys.path.append(project_path)  # 将项目根路径添加到系统路径中，以便导入项目中的模块\n",
    "\n",
    "import numpy as np\n",
    "from src import Dynamics, Activation, ESN, VISION, Dataset_makeup\n",
    "import matplotlib.pyplot as plt"
   ]
  }
 ],
 "metadata": {
  "kernelspec": {
   "display_name": "RIGEL",
   "language": "python",
   "name": "python3"
  },
  "language_info": {
   "codemirror_mode": {
    "name": "ipython",
    "version": 3
   },
   "file_extension": ".py",
   "mimetype": "text/x-python",
   "name": "python",
   "nbconvert_exporter": "python",
   "pygments_lexer": "ipython3",
   "version": "3.12.11"
  }
 },
 "nbformat": 4,
 "nbformat_minor": 5
}
