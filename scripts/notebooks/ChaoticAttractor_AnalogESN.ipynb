{
 "cells": [
  {
   "cell_type": "code",
   "execution_count": null,
   "id": "757d6898",
   "metadata": {},
   "outputs": [],
   "source": [
    "# 导入环境\n",
    "import os, sys\n",
    "current_path = os.path.abspath(os.path.dirname('.'))  # 获取文件目录\n",
    "project_path = current_path[:current_path.find('RIGEL') + len('RIGEL')]  # 获取项目根路径，内容为当前项目的名字，即RIGEL\n",
    "sys.path.append(project_path)  # 将项目根路径添加到系统路径中，以便导入项目中的模块\n",
    "\n",
    "import numpy as np\n",
    "import matplotlib.pyplot as plt\n",
    "from src import Dynamics, Activation, ESN, VISION, Dataset_makeup"
   ]
  },
  {
   "cell_type": "markdown",
   "id": "57245bef",
   "metadata": {},
   "source": [
    "定义要学习的动态系统"
   ]
  },
  {
   "cell_type": "code",
   "execution_count": null,
   "id": "12ba5c8d",
   "metadata": {},
   "outputs": [],
   "source": [
    "\n",
    "num_step = 10001  # 总步数\n",
    "step_length = 0.01\n",
    "time, data = Dynamics.Lorenz_63(origin=(3,2,16),parameter=(10,28,8.0/3.0),num_step=num_step,step_length=step_length)\n",
    "\n",
    "data = Dynamics.Add_noise(data, SNR=20.)  # 加入噪声\n",
    "\n",
    "num_init = 2000  # 前面的点可能包含初始点的信息，会是我们的拟合偏移，因此我们从一定点数之后开始取值\n",
    "num_train = 4000  # 训练集长度\n",
    "num_test = 3000  # 预测集长度\n",
    "initialization_set, training_set, testing_set = Dataset_makeup(time, data,num_init=num_init, num_train=num_train, num_test=num_test)\n",
    "\n",
    "t_init, x_init, y_init = initialization_set\n",
    "t_train, x_train, y_train = training_set\n",
    "t_test, x_test, y_test = testing_set"
   ]
  },
  {
   "cell_type": "markdown",
   "id": "62c2b3f2",
   "metadata": {},
   "source": [
    "定义ESN网络，并对于目标系统进行学习预测"
   ]
  },
  {
   "cell_type": "code",
   "execution_count": null,
   "id": "177f9e7e",
   "metadata": {},
   "outputs": [],
   "source": [
    "# NOTE: 定义一些常用的网络参数\n",
    "input_scaling = 0.25  # 如果计算结果出现nan，则可以考虑先降低输入的缩放因子，因为我们的激活函数是无界函数，很容易超出计算机所能处理的量程\n",
    "leaking_rate = 0.95\n",
    "# NOTE: 水库权重矩阵的参数\n",
    "reservoir_dim = 400  # N是水库矩库的边长，同时也就是水库态向量的长度\n",
    "spectral_radius = 1.2\n",
    "reservoir_density = 0.05\n",
    "# 器件的性能的多项式拟合系数\n",
    "    # device_coefficient = [0, -0.0606270243, 0.00364103237, 0.140685043, 0.00988703156, -0.00824646444,\n",
    "    # -0.000618645284, 0.000257831028, 0.000011526794, -0.00000315380367]\n",
    "    # reference_factor = 0.65\n",
    "    transient = 1000\n",
    "\n",
    "    def act_func(x): return Activation.I_Taylor_w_OperationalRange(x, operational_range=(-3,3))\n",
    "\n",
    "    model = ESN.Analog_LiESN(input_dimension=3,output_dimension=3,\n",
    "                             input_scaling=input_scaling,\n",
    "                             # activation=Activation.I_Taylor,  # Ideal device charateristics\n",
    "                             # activation=Activation.I_Taylor_w_deviation,  # Considering device variation\n",
    "                             activation=act_func,\n",
    "                             leaking_rate=leaking_rate,\n",
    "                             reservoir_dimension=reservoir_dim,\n",
    "                             reservoir_density=reservoir_density,\n",
    "                             reservoir_spectral_radius=spectral_radius,\n",
    "                             # reservoir_connection_weight=W_res,\n",
    "                             transient=transient,\n",
    "                             bias=0)\n",
    "\n",
    "    # opt_algorithm=4的SelectKBest算法有奇效，太过夸张，慎用！！！主要是岭回归（opt_algorithm=2）效果太好！！！\n",
    "    y_train_ESN, y_train, u_state_train, r_state_train, W_out = model.Training_phase(x_train, y_train, opt_algorithm=2)\n",
    "    # 此模型可以利用transient参数先把前面一段储层的初始态去掉\n",
    "    t_train_new = np.array([i + num_init + transient for i in range(y_train.shape[1])])\n",
    "\n",
    "    y_test_ESN, u_state_test, r_state_test = model.Predicting_phase(num_test)\n",
    "\n",
    "    # 网络拟合结果分析\n",
    "    VISION.Analyze_3D_systems(np.hstack((t_train_new, t_test)), (y_train, y_train_ESN), (y_test, y_test_ESN),\n",
    "                                 deviation_range=(0, 100))\n",
    "\n",
    "    plt.show(block=True)\n",
    "\n",
    "    # Lyapunov谱分析\n",
    "    # Evaluation.Quick_LyapunovAnalysis(y_test,y_test_ESN,mean_period=10,num_step=2000,step_length=step_length,\n",
    "                                      # estimate_steps_truth=200,estimate_steps_network=200,\n",
    "                                      # filename='Lorenz',\n",
    "                                      # saving_directory='E:/PhD_research/NonlinearNode_for_InformationSecurity/Manuscript_Theory/补充数据')"
   ]
  }
 ],
 "metadata": {
  "kernelspec": {
   "display_name": "RIGEL",
   "language": "python",
   "name": "python3"
  },
  "language_info": {
   "codemirror_mode": {
    "name": "ipython",
    "version": 3
   },
   "file_extension": ".py",
   "mimetype": "text/x-python",
   "name": "python",
   "nbconvert_exporter": "python",
   "pygments_lexer": "ipython3",
   "version": "3.12.11"
  }
 },
 "nbformat": 4,
 "nbformat_minor": 5
}
